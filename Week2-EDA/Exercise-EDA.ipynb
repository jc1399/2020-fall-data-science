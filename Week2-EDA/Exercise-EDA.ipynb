{
 "cells": [
  {
   "cell_type": "markdown",
   "metadata": {},
   "source": [
    "# Exploratory Data Analysis Exercise\n",
    "* For this part we will be using the `data/cars.csv` dataset"
   ]
  },
  {
   "cell_type": "code",
   "execution_count": 1,
   "metadata": {},
   "outputs": [],
   "source": [
    "# Import the libraries you'll need here.\n",
    "import pandas as pd\n",
    "import numpy as np\n",
    "\n",
    "# A basic visualization library\n",
    "import matplotlib.pyplot as plt\n",
    "\n",
    "# A great visualization library\n",
    "import seaborn as sns\n",
    "# This command tells python to use seaborn for its styling.\n",
    "sns.set()\n",
    "\n",
    "# Very important, this will make your charts appear in your notebook instead of in a new window.\n",
    "%matplotlib inline\n",
    "\n",
    "# Provides z-score helper function\n",
    "import scipy.stats as stats\n",
    "\n",
    "\n",
    "# Ignore this, this is just for displaying images.\n",
    "from IPython.display import Image"
   ]
  },
  {
   "cell_type": "markdown",
   "metadata": {},
   "source": [
    "# Load the csv file into a pandas dataframe.\n"
   ]
  },
  {
   "cell_type": "code",
   "execution_count": 2,
   "metadata": {},
   "outputs": [
    {
     "data": {
      "text/html": [
       "<div>\n",
       "<style scoped>\n",
       "    .dataframe tbody tr th:only-of-type {\n",
       "        vertical-align: middle;\n",
       "    }\n",
       "\n",
       "    .dataframe tbody tr th {\n",
       "        vertical-align: top;\n",
       "    }\n",
       "\n",
       "    .dataframe thead th {\n",
       "        text-align: right;\n",
       "    }\n",
       "</style>\n",
       "<table border=\"1\" class=\"dataframe\">\n",
       "  <thead>\n",
       "    <tr style=\"text-align: right;\">\n",
       "      <th></th>\n",
       "      <th>Make</th>\n",
       "      <th>Model</th>\n",
       "      <th>Year</th>\n",
       "      <th>Engine Fuel Type</th>\n",
       "      <th>Engine HP</th>\n",
       "      <th>Engine Cylinders</th>\n",
       "      <th>Transmission Type</th>\n",
       "      <th>Driven_Wheels</th>\n",
       "      <th>Number of Doors</th>\n",
       "      <th>Vehicle Size</th>\n",
       "      <th>Vehicle Style</th>\n",
       "      <th>highway MPG</th>\n",
       "      <th>city mpg</th>\n",
       "      <th>Popularity</th>\n",
       "      <th>MSRP</th>\n",
       "    </tr>\n",
       "  </thead>\n",
       "  <tbody>\n",
       "    <tr>\n",
       "      <th>0</th>\n",
       "      <td>BMW</td>\n",
       "      <td>1 Series M</td>\n",
       "      <td>2011</td>\n",
       "      <td>premium unleaded (required)</td>\n",
       "      <td>335.0</td>\n",
       "      <td>6.0</td>\n",
       "      <td>MANUAL</td>\n",
       "      <td>rear wheel drive</td>\n",
       "      <td>2.0</td>\n",
       "      <td>Compact</td>\n",
       "      <td>Coupe</td>\n",
       "      <td>26</td>\n",
       "      <td>19</td>\n",
       "      <td>3916</td>\n",
       "      <td>46135</td>\n",
       "    </tr>\n",
       "    <tr>\n",
       "      <th>1</th>\n",
       "      <td>BMW</td>\n",
       "      <td>1 Series</td>\n",
       "      <td>2011</td>\n",
       "      <td>premium unleaded (required)</td>\n",
       "      <td>300.0</td>\n",
       "      <td>6.0</td>\n",
       "      <td>MANUAL</td>\n",
       "      <td>rear wheel drive</td>\n",
       "      <td>2.0</td>\n",
       "      <td>Compact</td>\n",
       "      <td>Convertible</td>\n",
       "      <td>28</td>\n",
       "      <td>19</td>\n",
       "      <td>3916</td>\n",
       "      <td>40650</td>\n",
       "    </tr>\n",
       "    <tr>\n",
       "      <th>2</th>\n",
       "      <td>BMW</td>\n",
       "      <td>1 Series</td>\n",
       "      <td>2011</td>\n",
       "      <td>premium unleaded (required)</td>\n",
       "      <td>300.0</td>\n",
       "      <td>6.0</td>\n",
       "      <td>MANUAL</td>\n",
       "      <td>rear wheel drive</td>\n",
       "      <td>2.0</td>\n",
       "      <td>Compact</td>\n",
       "      <td>Coupe</td>\n",
       "      <td>28</td>\n",
       "      <td>20</td>\n",
       "      <td>3916</td>\n",
       "      <td>36350</td>\n",
       "    </tr>\n",
       "    <tr>\n",
       "      <th>3</th>\n",
       "      <td>BMW</td>\n",
       "      <td>1 Series</td>\n",
       "      <td>2011</td>\n",
       "      <td>premium unleaded (required)</td>\n",
       "      <td>230.0</td>\n",
       "      <td>6.0</td>\n",
       "      <td>MANUAL</td>\n",
       "      <td>rear wheel drive</td>\n",
       "      <td>2.0</td>\n",
       "      <td>Compact</td>\n",
       "      <td>Coupe</td>\n",
       "      <td>28</td>\n",
       "      <td>18</td>\n",
       "      <td>3916</td>\n",
       "      <td>29450</td>\n",
       "    </tr>\n",
       "    <tr>\n",
       "      <th>4</th>\n",
       "      <td>BMW</td>\n",
       "      <td>1 Series</td>\n",
       "      <td>2011</td>\n",
       "      <td>premium unleaded (required)</td>\n",
       "      <td>230.0</td>\n",
       "      <td>6.0</td>\n",
       "      <td>MANUAL</td>\n",
       "      <td>rear wheel drive</td>\n",
       "      <td>2.0</td>\n",
       "      <td>Compact</td>\n",
       "      <td>Convertible</td>\n",
       "      <td>28</td>\n",
       "      <td>18</td>\n",
       "      <td>3916</td>\n",
       "      <td>34500</td>\n",
       "    </tr>\n",
       "  </tbody>\n",
       "</table>\n",
       "</div>"
      ],
      "text/plain": [
       "  Make       Model  Year             Engine Fuel Type  Engine HP  \\\n",
       "0  BMW  1 Series M  2011  premium unleaded (required)      335.0   \n",
       "1  BMW    1 Series  2011  premium unleaded (required)      300.0   \n",
       "2  BMW    1 Series  2011  premium unleaded (required)      300.0   \n",
       "3  BMW    1 Series  2011  premium unleaded (required)      230.0   \n",
       "4  BMW    1 Series  2011  premium unleaded (required)      230.0   \n",
       "\n",
       "   Engine Cylinders Transmission Type     Driven_Wheels  Number of Doors  \\\n",
       "0               6.0            MANUAL  rear wheel drive              2.0   \n",
       "1               6.0            MANUAL  rear wheel drive              2.0   \n",
       "2               6.0            MANUAL  rear wheel drive              2.0   \n",
       "3               6.0            MANUAL  rear wheel drive              2.0   \n",
       "4               6.0            MANUAL  rear wheel drive              2.0   \n",
       "\n",
       "  Vehicle Size Vehicle Style  highway MPG  city mpg  Popularity   MSRP  \n",
       "0      Compact         Coupe           26        19        3916  46135  \n",
       "1      Compact   Convertible           28        19        3916  40650  \n",
       "2      Compact         Coupe           28        20        3916  36350  \n",
       "3      Compact         Coupe           28        18        3916  29450  \n",
       "4      Compact   Convertible           28        18        3916  34500  "
      ]
     },
     "execution_count": 2,
     "metadata": {},
     "output_type": "execute_result"
    }
   ],
   "source": [
    "# Load the csv file into a pandas dataframe.\n",
    "df = pd.read_csv('data/cars.csv')\n",
    "df.head()"
   ]
  },
  {
   "cell_type": "markdown",
   "metadata": {},
   "source": [
    "# Data clean up part 1.\n",
    "\n",
    "1. Print the number of duplicate rows we have in our dataframe.\n",
    "\n",
    "2. Modify our df to have all duplicate rows removed. \n",
    "\n",
    "3. Do a sanity check to make sure all duplicates have been removed by printing the total number of duplicate rows again."
   ]
  },
  {
   "cell_type": "code",
   "execution_count": 3,
   "metadata": {},
   "outputs": [
    {
     "name": "stdout",
     "output_type": "stream",
     "text": [
      "720\n"
     ]
    },
    {
     "data": {
      "text/plain": [
       "0        False\n",
       "1        False\n",
       "2        False\n",
       "3        False\n",
       "4        False\n",
       "         ...  \n",
       "11909    False\n",
       "11910    False\n",
       "11911    False\n",
       "11912    False\n",
       "11913    False\n",
       "Length: 11914, dtype: bool"
      ]
     },
     "execution_count": 3,
     "metadata": {},
     "output_type": "execute_result"
    }
   ],
   "source": [
    "# 1. Print the number of duplicate rows we have in our dataframe\n",
    "\n",
    "print(df.duplicated().sum())\n",
    "df.duplicated()"
   ]
  },
  {
   "cell_type": "code",
   "execution_count": 4,
   "metadata": {},
   "outputs": [
    {
     "name": "stdout",
     "output_type": "stream",
     "text": [
      "(11194, 15)\n"
     ]
    }
   ],
   "source": [
    "#  2. Modify our df to have all duplicate rows removed. \n",
    "\n",
    "df = df.drop_duplicates()\n",
    "print(df.shape)"
   ]
  },
  {
   "cell_type": "code",
   "execution_count": 5,
   "metadata": {},
   "outputs": [
    {
     "name": "stdout",
     "output_type": "stream",
     "text": [
      "0\n"
     ]
    },
    {
     "data": {
      "text/plain": [
       "0        False\n",
       "1        False\n",
       "2        False\n",
       "3        False\n",
       "4        False\n",
       "         ...  \n",
       "11909    False\n",
       "11910    False\n",
       "11911    False\n",
       "11912    False\n",
       "11913    False\n",
       "Length: 11194, dtype: bool"
      ]
     },
     "execution_count": 5,
     "metadata": {},
     "output_type": "execute_result"
    }
   ],
   "source": [
    "# 3. Do a sanity check to make sure all duplicates have been removed by printing the total number of duplicate rows again.\n",
    "\n",
    "print(df.duplicated().sum())\n",
    "df.duplicated()"
   ]
  },
  {
   "cell_type": "markdown",
   "metadata": {},
   "source": [
    "# Data clean up part 2.\n",
    "* Which column has the most null values and how many null values does it have?\n",
    "* Print how long our dataframe is.\n",
    "* Remove any row that has a null value in it. \n",
    "* Do a sanity check and pring how long our dataframe is now that we have removed our null values."
   ]
  },
  {
   "cell_type": "code",
   "execution_count": 6,
   "metadata": {
    "scrolled": true
   },
   "outputs": [
    {
     "name": "stdout",
     "output_type": "stream",
     "text": [
      "Engine HP\n"
     ]
    },
    {
     "data": {
      "text/plain": [
       "69"
      ]
     },
     "execution_count": 6,
     "metadata": {},
     "output_type": "execute_result"
    }
   ],
   "source": [
    "# * Which column has the most null values and how many null values does it have?\n",
    "\n",
    "    # .idxmax() prints the column name of the one with the maximum value (also has idxmin())\n",
    "print(df.isnull().sum().idxmax())\n",
    "df.isnull().sum().max()"
   ]
  },
  {
   "cell_type": "code",
   "execution_count": 7,
   "metadata": {},
   "outputs": [
    {
     "data": {
      "text/plain": [
       "11194"
      ]
     },
     "execution_count": 7,
     "metadata": {},
     "output_type": "execute_result"
    }
   ],
   "source": [
    "# * Print how long (aka how many rows) our dataframe is.\n",
    "df.shape[0]\n"
   ]
  },
  {
   "cell_type": "code",
   "execution_count": 8,
   "metadata": {},
   "outputs": [
    {
     "data": {
      "text/plain": [
       "Make                 0\n",
       "Model                0\n",
       "Year                 0\n",
       "Engine Fuel Type     0\n",
       "Engine HP            0\n",
       "Engine Cylinders     0\n",
       "Transmission Type    0\n",
       "Driven_Wheels        0\n",
       "Number of Doors      0\n",
       "Vehicle Size         0\n",
       "Vehicle Style        0\n",
       "highway MPG          0\n",
       "city mpg             0\n",
       "Popularity           0\n",
       "MSRP                 0\n",
       "dtype: int64"
      ]
     },
     "execution_count": 8,
     "metadata": {},
     "output_type": "execute_result"
    }
   ],
   "source": [
    "# * Remove any row that has a null value in it. \n",
    "\n",
    "df = df.dropna()\n",
    "\n",
    "\n",
    "df.isnull().sum()"
   ]
  },
  {
   "cell_type": "code",
   "execution_count": 9,
   "metadata": {},
   "outputs": [
    {
     "name": "stdout",
     "output_type": "stream",
     "text": [
      "(11092, 15)\n"
     ]
    },
    {
     "data": {
      "text/plain": [
       "11092"
      ]
     },
     "execution_count": 9,
     "metadata": {},
     "output_type": "execute_result"
    }
   ],
   "source": [
    "# * Do a sanity check and print how long our dataframe is now that we have removed our null values.\n",
    "print(df.shape)\n",
    "\n",
    "df.shape[0]"
   ]
  },
  {
   "cell_type": "markdown",
   "metadata": {},
   "source": [
    "### Make a bar chart that displays how many time each brand of car appears in this data. \n",
    "_Brand of car is the `Make` of the car._"
   ]
  },
  {
   "cell_type": "code",
   "execution_count": 10,
   "metadata": {},
   "outputs": [
    {
     "data": {
      "text/plain": [
       "<matplotlib.axes._subplots.AxesSubplot at 0x13574867bb0>"
      ]
     },
     "execution_count": 10,
     "metadata": {},
     "output_type": "execute_result"
    },
    {
     "data": {
      "image/png": "[encoded data removed]",
      "text/plain": [
       "<Figure size 432x288 with 1 Axes>"
      ]
     },
     "metadata": {
      "needs_background": "light"
     },
     "output_type": "display_data"
    }
   ],
   "source": [
    "# Make a bar chart that displays how many times each brand of car appears in this data. \n",
    "\n",
    "gb = df.groupby('Make')['Make'].count()\n",
    "\n",
    "gb.plot(kind='bar')"
   ]
  },
  {
   "cell_type": "markdown",
   "metadata": {},
   "source": [
    "# Make the cart more legible, by making it a horizontal bar chart and changing the figure size."
   ]
  },
  {
   "cell_type": "code",
   "execution_count": 11,
   "metadata": {},
   "outputs": [
    {
     "data": {
      "text/plain": [
       "<matplotlib.axes._subplots.AxesSubplot at 0x135748f3580>"
      ]
     },
     "execution_count": 11,
     "metadata": {},
     "output_type": "execute_result"
    },
    {
     "data": {
      "image/png": "[encoded data removed]",
      "text/plain": [
       "<Figure size 360x1080 with 1 Axes>"
      ]
     },
     "metadata": {
      "needs_background": "light"
     },
     "output_type": "display_data"
    }
   ],
   "source": [
    "# Make the cart more legible, by making it a horizontal bar chart and changing the figure size.\n",
    "\n",
    "gb.plot(kind='barh' , figsize=(5,15))\n"
   ]
  },
  {
   "cell_type": "markdown",
   "metadata": {},
   "source": [
    "### Make a timeline line chart in which the x-axis is the year, and the y-axis is the average MSRP.\n",
    "* What's noticeable about it and what do you think the error is...\n"
   ]
  },
  {
   "cell_type": "code",
   "execution_count": 12,
   "metadata": {},
   "outputs": [
    {
     "data": {
      "text/plain": [
       "<matplotlib.axes._subplots.AxesSubplot at 0x13574afcee0>"
      ]
     },
     "execution_count": 12,
     "metadata": {},
     "output_type": "execute_result"
    },
    {
     "data": {
      "image/png": "[encoded data removed]",
      "text/plain": [
       "<Figure size 1080x360 with 1 Axes>"
      ]
     },
     "metadata": {
      "needs_background": "light"
     },
     "output_type": "display_data"
    }
   ],
   "source": [
    "# Make a timeline line chart in which the x-axis is the year, and the y-axis is the average MSRP.\n",
    "\n",
    "gb = df.groupby('Year')['MSRP'].mean()\n",
    "\n",
    "gb.plot(kind=\"line\", x=\"Year\", y=\"MSRP\",figsize=(15,5))\n"
   ]
  },
  {
   "cell_type": "markdown",
   "metadata": {},
   "source": [
    "# It seems as though in the years before 2000, they were counting in tens.\n",
    "Make a new column that is called `adjusted_price`, that contains all prices, however, for \n",
    "every year before 2000 make it 10x the original MSRP."
   ]
  },
  {
   "cell_type": "code",
   "execution_count": 13,
   "metadata": {},
   "outputs": [],
   "source": [
    "# Make a new column that is called `adjusted_price`, that contains all prices, however, for every year before 2000 make it 10x the original MSRP.\n",
    "condition = df['Year'] < 2001\n",
    "\n",
    "df['adjusted_price'] = np.where(condition,df['MSRP'] * 10, df['MSRP'])"
   ]
  },
  {
   "cell_type": "markdown",
   "metadata": {},
   "source": [
    "# Replot the new adjusted price.  \n",
    "* Make the y-axis start at 0 and go up to 100,000"
   ]
  },
  {
   "cell_type": "code",
   "execution_count": 14,
   "metadata": {},
   "outputs": [
    {
     "data": {
      "text/plain": [
       "<matplotlib.axes._subplots.AxesSubplot at 0x13574b92760>"
      ]
     },
     "execution_count": 14,
     "metadata": {},
     "output_type": "execute_result"
    },
    {
     "data": {
      "image/png": "[encoded data removed]",
      "text/plain": [
       "<Figure size 1080x360 with 1 Axes>"
      ]
     },
     "metadata": {
      "needs_background": "light"
     },
     "output_type": "display_data"
    }
   ],
   "source": [
    "# Replot the new adjusted price and make the y-axis start at 0 and go up to 100,000\n",
    "gb = df.groupby('Year')['adjusted_price'].mean()\n",
    "\n",
    "gb.plot(kind=\"line\", x=\"Year\", y=\"adjusted_price\",figsize=(15,5), ylim=[0,100000])"
   ]
  },
  {
   "cell_type": "markdown",
   "metadata": {},
   "source": [
    "# What are the top 5 car makers make the most expensive cars on average. \n",
    "* I only want the top 5, make sure your answer is the top 5 and only the top 5. \n",
    "* Use our `adjusted_price` column for this"
   ]
  },
  {
   "cell_type": "code",
   "execution_count": 15,
   "metadata": {},
   "outputs": [
    {
     "data": {
      "text/plain": [
       "Make\n",
       "Bugatti        1.757224e+06\n",
       "Maybach        5.462219e+05\n",
       "Rolls-Royce    3.511306e+05\n",
       "Lamborghini    3.315673e+05\n",
       "Bentley        2.471693e+05\n",
       "Name: adjusted_price, dtype: float64"
      ]
     },
     "execution_count": 15,
     "metadata": {},
     "output_type": "execute_result"
    }
   ],
   "source": [
    "# What are the top 5 car makers make the most expensive cars on average. \n",
    "\n",
    "#df.nlargest(5, ['adjusted_price'])\n",
    "df.groupby('Make')['adjusted_price'].mean().nlargest()"
   ]
  },
  {
   "cell_type": "markdown",
   "metadata": {},
   "source": [
    "# What are the top 5 car makers that have the highest median highway MPG?"
   ]
  },
  {
   "cell_type": "code",
   "execution_count": 16,
   "metadata": {},
   "outputs": [
    {
     "data": {
      "text/plain": [
       "Make\n",
       "Alfa Romeo    34\n",
       "FIAT          33\n",
       "Honda         32\n",
       "Scion         32\n",
       "Volkswagen    32\n",
       "Name: highway MPG, dtype: int64"
      ]
     },
     "execution_count": 16,
     "metadata": {},
     "output_type": "execute_result"
    }
   ],
   "source": [
    "# Which car makers have the highest median highway MPG?\n",
    "\n",
    "df.groupby('Make')['highway MPG'].median().nlargest(5)"
   ]
  },
  {
   "cell_type": "markdown",
   "metadata": {},
   "source": [
    "# Using `sns.histplot`, make histogram of the adjusted_price of just these car makers.\n",
    "* ['Chevrolet', 'Ford', 'Toyota']"
   ]
  },
  {
   "cell_type": "code",
   "execution_count": 35,
   "metadata": {},
   "outputs": [
    {
     "data": {
      "text/plain": [
       "<matplotlib.axes._subplots.AxesSubplot at 0x135768077f0>"
      ]
     },
     "execution_count": 35,
     "metadata": {},
     "output_type": "execute_result"
    },
    {
     "data": {
      "image/png": "[encoded data removed]",
      "text/plain": [
       "<Figure size 432x288 with 1 Axes>"
      ]
     },
     "metadata": {
      "needs_background": "light"
     },
     "output_type": "display_data"
    }
   ],
   "source": [
    "# Using `sns.histplot`, make histogram of the adjusted_price of just these car makers.\n",
    "\n",
    "x = df['adjusted_price']\n",
    "sns.distplot(x)\n"
   ]
  },
  {
   "cell_type": "markdown",
   "metadata": {},
   "source": [
    "# Remake the same histogram, but limit the x-axis from 0 to 100,000"
   ]
  },
  {
   "cell_type": "code",
   "execution_count": null,
   "metadata": {},
   "outputs": [],
   "source": [
    "# Remake the same histogram, but limit the x-axis from 0 to 100,000\n",
    "\n",
    "\n"
   ]
  },
  {
   "cell_type": "markdown",
   "metadata": {},
   "source": [
    "# Plot the relationship between Engine HP and highway MPG"
   ]
  },
  {
   "cell_type": "code",
   "execution_count": null,
   "metadata": {},
   "outputs": [],
   "source": [
    "# Plot the relationship between Engine HP and highway MPG\n",
    "\n",
    "\n"
   ]
  },
  {
   "cell_type": "markdown",
   "metadata": {},
   "source": [
    "# Remove any statisical outliers from Engine HP and highway MPG and plot the result.\n",
    "* Statisical outliers meaning values that are further than 3 standard deviations from the mean \n",
    "* Create a new columns for z-scores for each 'Engine HP' and 'highway MPG' named 'Engine HP_zscore' and 'highway MPG_zscore'\n",
    "* Calculate the z-scores for each of our target columns.\n",
    "* Make sure you set the z-scores to be their absolute values. \n",
    "* Create condition masks for when either of those absolute values are greater than 3.\n",
    "\n",
    "* Create a new dataframe that is a copy of our dataframe using df.copy()\n",
    "\n",
    "* Using our new dataframe\n",
    "    * Filter out all Engine HP Z-Scores that are greater than 3\n",
    "    * Filter out all Highway MPG z-scores that are greater than 3.\n",
    "    * Make the same scatterplot plotting the relationship of Engine HP and Highway MPG as before but with the this dataframe."
   ]
  },
  {
   "cell_type": "code",
   "execution_count": null,
   "metadata": {},
   "outputs": [],
   "source": [
    "# Remove any statisical outliers from Engine HP and highway MPG\n",
    "\n",
    "\n"
   ]
  },
  {
   "cell_type": "markdown",
   "metadata": {},
   "source": [
    "# What does this plot tell you about how Engine HP affects highway MPG?"
   ]
  },
  {
   "cell_type": "code",
   "execution_count": null,
   "metadata": {},
   "outputs": [],
   "source": [
    "# What does this plot tell you about how Engine HP affects highway MPG?\n",
    "print('YOUR ANSWER HERE')"
   ]
  },
  {
   "cell_type": "markdown",
   "metadata": {},
   "source": [
    "# Using a pairplot, display all of the linear relationship.\n",
    "* Which variables look like they have the strongest linear relationship (Besides MSRP and adjusted_price)."
   ]
  },
  {
   "cell_type": "code",
   "execution_count": null,
   "metadata": {},
   "outputs": [],
   "source": [
    "# Using a pairplot, display all of the linear relationship.\n",
    "\n",
    "\n"
   ]
  },
  {
   "cell_type": "code",
   "execution_count": null,
   "metadata": {},
   "outputs": [],
   "source": [
    "# * Which variables look like they have the strongest linear relationship (Besides MSRP and adjusted_price).\n",
    "print('YOUR ANSWER HERE')\n",
    "\n"
   ]
  },
  {
   "cell_type": "markdown",
   "metadata": {},
   "source": [
    "# Find which features actually have the strongest linear relationship using correlations.\n",
    "* Make a heatmap plot of all of the correlations in our dataset.\n",
    "* Change the figure size of our heatmap plot to be 8x8\n",
    "* Which feature does Engine HP have the strongest relationship with, and why do you think that relationship exists."
   ]
  },
  {
   "cell_type": "code",
   "execution_count": null,
   "metadata": {},
   "outputs": [],
   "source": [
    "# * Make a heatmap plot of all of the correlations in our dataset.\n",
    "# * Change the figure size of our heatmap plot to be 8x8\n",
    "\n"
   ]
  },
  {
   "cell_type": "markdown",
   "metadata": {},
   "source": [
    "# [EXTRA CREDIT] \n",
    "* In the column names, replace all the spaces with an underscore, and make them all lowercase as well\n",
    "* Using subplots, display the histogram of adjusted_price for 'Ford' and 'Toyota' appear on charts side by side. \n",
    "    * `f, axes = plt.subplots(1, 2, figsize=(13,5))`\n",
    "\n"
   ]
  },
  {
   "cell_type": "code",
   "execution_count": null,
   "metadata": {},
   "outputs": [],
   "source": [
    "# * In the column names, replace all the spaces with an underscore, and make them all lowercase as well\n",
    "\n",
    "\n"
   ]
  },
  {
   "cell_type": "code",
   "execution_count": null,
   "metadata": {},
   "outputs": [],
   "source": []
  }
 ],
 "metadata": {
  "kernelspec": {
   "display_name": "Python 3",
   "language": "python",
   "name": "python3"
  },
  "language_info": {
   "codemirror_mode": {
    "name": "ipython",
    "version": 3
   },
   "file_extension": ".py",
   "mimetype": "text/x-python",
   "name": "python",
   "nbconvert_exporter": "python",
   "pygments_lexer": "ipython3",
   "version": "3.8.3"
  }
 },
 "nbformat": 4,
 "nbformat_minor": 2
}
